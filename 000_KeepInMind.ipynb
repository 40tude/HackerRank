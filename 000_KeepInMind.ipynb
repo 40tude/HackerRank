{
 "cells": [
  {
   "cell_type": "code",
   "execution_count": 49,
   "metadata": {},
   "outputs": [
    {
     "name": "stdout",
     "output_type": "stream",
     "text": [
      "Counter({100: 4, 300: 3, 2: 3})\n"
     ]
    }
   ],
   "source": [
    "# https://docs.python.org/fr/3.10/library/collections.html\n",
    "# Counter => Elements are stored as dictionary keys and \n",
    "# their counts are stored as dictionary values\n",
    "  \n",
    "from collections import Counter\n",
    "Data = [300, 100, 2, 100, 100, 2, 300, 100, 300, 2]  \n",
    "\n",
    "Stock = Counter(Data)\n",
    "print(Stock)                 # classé par ordre décroissant des valeurs ?\n"
   ]
  },
  {
   "cell_type": "code",
   "execution_count": 13,
   "metadata": {},
   "outputs": [
    {
     "name": "stdout",
     "output_type": "stream",
     "text": [
      "68.3 95.5 99.7\n",
      "-1\n"
     ]
    }
   ],
   "source": [
    "# https://stackoverflow.com/questions/5900578/collections-defaultdict-difference-with-normal-dict\n",
    "\n",
    "from collections import defaultdict\n",
    "\n",
    "MyDict = defaultdict(list)      \n",
    "MyDict.default_factory = lambda : [-1]   \n",
    "\n",
    "A = [\"68.3\", \"95.5\", \"99.7\"]\n",
    "\n",
    "for v in A:\n",
    "  MyDict[v].append(v)\n",
    "\n",
    "print(*MyDict)\n",
    "print(*MyDict[42])\n",
    "\n"
   ]
  },
  {
   "cell_type": "code",
   "execution_count": 56,
   "metadata": {},
   "outputs": [
    {
     "name": "stdout",
     "output_type": "stream",
     "text": [
      "Forty two\n",
      "\n",
      "L'entier le plus proche de 99.7 vaut = 100\n",
      "\n",
      "π/2 vaut = 90.0\n",
      "\n",
      "° est encodé avec la valeur : b'\\xc2\\xb0'\n",
      "45°\n",
      "45°\n",
      "\n",
      "Les lettres uniques dans abracadabra sont : ['a', 'b', 'r', 'c', 'd']\n",
      "\n",
      "La liste transformée en chaine devient : azerty\n",
      "\n"
     ]
    }
   ],
   "source": [
    "# ternary op\n",
    "bob = 42\n",
    "print (\"Forty two\" if bob==42 else \"Forty too\")\n",
    "print()\n",
    "\n",
    "bob = round(99.7)         # arrondir entier + proche\n",
    "print (f\"L'entier le plus proche de 99.7 vaut = {bob}\")\n",
    "print()\n",
    "\n",
    "import math\n",
    "bob = math.degrees(math.pi/2)   # conversion\n",
    "print (f\"\\u03C0/2 vaut = {bob}\")\n",
    "print()\n",
    "\n",
    "# encodage utf8\n",
    "tmp = \"°\".encode(\"utf-8\") # \\xb0\n",
    "print(f\"° est encodé avec la valeur : {tmp}\")\n",
    "print (f\"45\\xb0\")         # 45°\n",
    "print (f\"45\\u00B0\")       # <- sans doute préférable\n",
    "print()\n",
    "\n",
    "# Supprimer les doubles dans l'itérable word\n",
    "# A la fin word est une liste\n",
    "Word = \"abracadabra\"\n",
    "UniqueLetters = list(dict.fromkeys(Word))\n",
    "print(f\"Les lettres uniques dans {Word} sont : {UniqueLetters}\")\n",
    "print()\n",
    "\n",
    "# Convertir une liste en chaine\n",
    "MyList = [\"a\", \"z\", \"e\", \"r\", \"t\", \"y\"]\n",
    "MyString = \"\".join(MyList) \n",
    "print (f\"La liste transformée en chaine devient : {MyString}\")\n",
    "print()\n"
   ]
  },
  {
   "cell_type": "code",
   "execution_count": null,
   "metadata": {},
   "outputs": [],
   "source": [
    "# https://docs.python.org/3/library/collections.html#collections.OrderedDict\n",
    "from collections import OrderedDict\n",
    "\n",
    "# od = OrderedDict()  \n",
    "# CurrentVal = od.get(Pdt)\n",
    "# if CurrentVal:\n",
    "#   od[Pdt] += int(Val[0])\n",
    "# else:\n",
    "#   od[Pdt]  = int(Val[0])\n",
    "# for key, value in od.items():\n",
    "#   print(key, value)\n"
   ]
  },
  {
   "cell_type": "code",
   "execution_count": null,
   "metadata": {},
   "outputs": [],
   "source": [
    "# Exception\n",
    "# n = int(input())\n",
    "n = 3\n",
    "MyList = [(3,1), (42, 0), (2,'$') ]\n",
    "for i in range(n):\n",
    "  try:\n",
    "    #a, b = map(int, input().split())\n",
    "    a, b = MyList[i]\n",
    "    r = a//b\n",
    "  except ValueError as e:\n",
    "    print (f\"Error Code: {e}\")\n",
    "  except ZeroDivisionError as e:\n",
    "    print (f\"Error Code: {e}\")\n",
    "  else:\n",
    "    # se déroule si pas d'exception  \n",
    "    print(f\"{r}\") \n",
    "  finally:\n",
    "    print(f\"Whatever happens\")   "
   ]
  },
  {
   "cell_type": "code",
   "execution_count": 1,
   "metadata": {},
   "outputs": [
    {
     "name": "stdout",
     "output_type": "stream",
     "text": [
      "(1, 6, 7) (2, 5, 8) (3, 4, 9)\n"
     ]
    }
   ],
   "source": [
    "\n",
    "A = [1,2,3]\n",
    "B = [6,5,4]\n",
    "C = [7,8,9]\n",
    "X = [A] + [B] + [C]\n",
    "\n",
    "Bob = list(zip(*X))\n",
    "print (*Bob)\n",
    "pass\n",
    "\n"
   ]
  },
  {
   "cell_type": "code",
   "execution_count": 1,
   "metadata": {},
   "outputs": [
    {
     "name": "stdout",
     "output_type": "stream",
     "text": [
      "Inserting\n"
     ]
    }
   ],
   "source": [
    "# switch case\n",
    "Instruction = [\"insert\", \"print\"]\n",
    "match Instruction[0]:\n",
    "  case \"insert\" :\n",
    "    print (\"Inserting\")\n",
    "  case \"print\":\n",
    "    print (\"Printing\")\n",
    "  case other :\n",
    "    assert False "
   ]
  },
  {
   "cell_type": "code",
   "execution_count": 5,
   "metadata": {},
   "outputs": [
    {
     "name": "stdout",
     "output_type": "stream",
     "text": [
      "20\n"
     ]
    }
   ],
   "source": [
    "# https://www.programiz.com/python-programming/datetime/strptime\n",
    "\n",
    "from datetime import datetime\n",
    "\n",
    "end_time = \"Sun 10 May 2015 13:54:56 -0700\"\n",
    "t1 = datetime.strptime(end_time, \"%a %d %b %Y %H:%M:%S %z\")\n",
    "#print('Start time:', t1.time())\n",
    "\n",
    "start_time = \"Sun 10 May 2015 13:54:36 -0700\"\n",
    "t2 = datetime.strptime(start_time, \"%a %d %b %Y %H:%M:%S %z\")\n",
    "delta = t1-t2\n",
    "print(str(int(delta.total_seconds())))\n"
   ]
  },
  {
   "cell_type": "code",
   "execution_count": 9,
   "metadata": {},
   "outputs": [
    {
     "name": "stdout",
     "output_type": "stream",
     "text": [
      "WEDNESDAY\n"
     ]
    }
   ],
   "source": [
    "# https://docs.python.org/2/library/calendar.html#calendar.setfirstweekday\n",
    "\n",
    "import calendar\n",
    "MyDate = list(map(int,\"08 05 2015\".split()))\n",
    "\n",
    "WeekDayId = calendar.weekday(MyDate[2], MyDate[0], MyDate[1])\n",
    "print (calendar.day_name[WeekDayId].upper())\n"
   ]
  },
  {
   "cell_type": "code",
   "execution_count": 24,
   "metadata": {},
   "outputs": [
    {
     "name": "stdout",
     "output_type": "stream",
     "text": [
      "Bond\n",
      "Hugo\n",
      "\n",
      "fin\n"
     ]
    }
   ],
   "source": [
    "# https://www.geeksforgeeks.org/namedtuple-in-python/\n",
    "\n",
    "# struct\n",
    "from collections import namedtuple\n",
    "\n",
    "Students = namedtuple('Student',[\"Nom\", \"Prénom\"])\n",
    "Class = []\n",
    "Class.append(Students(\"Bond\", \"James\"))\n",
    "Class.append(Students(\"Hugo\", \"Victor\"))\n",
    "[print(s.Nom) for s in Class]\n",
    "print() # supprime les none"
   ]
  },
  {
   "cell_type": "code",
   "execution_count": 32,
   "metadata": {},
   "outputs": [
    {
     "name": "stdout",
     "output_type": "stream",
     "text": [
      "Par notes croissantes   :\n",
      "('Loulou', 11) ('Fifi', 14) ('Riri', 18)\n",
      "\n",
      "Par prénons décroissant :\n",
      "('Riri', 18) ('Loulou', 11) ('Fifi', 14)\n"
     ]
    }
   ],
   "source": [
    "# sort() avec une clé custom \n",
    "MyList = [(\"Riri\", 18), (\"Fifi\", 14), (\"Loulou\", 11)]             # Huey, Dewey and Louie \n",
    "\n",
    "print(f\"Par notes croissantes   :\")\n",
    "MyList.sort(key = lambda student : student[1])\n",
    "print (*MyList, end=\"\\n\\n\")\n",
    "\n",
    "print(f\"Par prénons décroissant :\")\n",
    "MyList.sort(key = lambda student : student[0], reverse = True)    # tri inversé\n",
    "print (*MyList)\n"
   ]
  },
  {
   "cell_type": "code",
   "execution_count": 35,
   "metadata": {},
   "outputs": [
    {
     "name": "stdout",
     "output_type": "stream",
     "text": [
      "Première valeur supérieure à 65 est 95\n"
     ]
    }
   ],
   "source": [
    "# Assignation dans une boucle while\n",
    "# Simule une boucle Do While\n",
    "\n",
    "MyList = [99, 95, 42, 65]\n",
    "MyMax = MyList.pop()  \n",
    "while (CurrentVal := MyList.pop()):\n",
    "  if CurrentVal>MyMax : \n",
    "    print(f\"Première valeur supérieure à {MyMax} est {CurrentVal}\")\n",
    "    break\n"
   ]
  },
  {
   "cell_type": "code",
   "execution_count": 42,
   "metadata": {},
   "outputs": [
    {
     "name": "stdout",
     "output_type": "stream",
     "text": [
      "[0] [1] [2]\n",
      "[0, 0, 0] [0, 0, 1] [0, 0, 2] [0, 1, 0] [0, 1, 1] [0, 1, 2] [1, 0, 0] [1, 0, 1] [1, 0, 2] [1, 1, 0] [1, 1, 1] [1, 1, 2]\n"
     ]
    }
   ],
   "source": [
    "# List comprehension \n",
    "\n",
    "MyList = [[i] for i in range(3)]\n",
    "print(*MyList)\n",
    "\n",
    "n = 18\n",
    "x, y, z = 1, 1, 2\n",
    "MyList = [[i,j,k] for i in range(x+1) for j in range(y+1) for k in range(z+1) if (i+j+k) !=n]\n",
    "print(*MyList)"
   ]
  }
 ],
 "metadata": {
  "kernelspec": {
   "display_name": "base",
   "language": "python",
   "name": "python3"
  },
  "language_info": {
   "codemirror_mode": {
    "name": "ipython",
    "version": 3
   },
   "file_extension": ".py",
   "mimetype": "text/x-python",
   "name": "python",
   "nbconvert_exporter": "python",
   "pygments_lexer": "ipython3",
   "version": "3.10.12"
  },
  "orig_nbformat": 4
 },
 "nbformat": 4,
 "nbformat_minor": 2
}
