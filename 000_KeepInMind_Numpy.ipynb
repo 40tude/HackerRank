{
 "cells": [
  {
   "cell_type": "code",
   "execution_count": 1,
   "metadata": {},
   "outputs": [],
   "source": [
    "import numpy as np\n",
    "import random"
   ]
  },
  {
   "cell_type": "code",
   "execution_count": 11,
   "metadata": {},
   "outputs": [
    {
     "name": "stdout",
     "output_type": "stream",
     "text": [
      "[[53 69 31 19 97]\n",
      " [75 45 94 57 93]\n",
      " [ 2 87 68 76 30]\n",
      " [37 31 76  1 50]\n",
      " [61 73  4 87 95]]\n",
      "(5, 5)\n",
      "2\n",
      "25\n"
     ]
    }
   ],
   "source": [
    "# Lignes - Colonnes\n",
    "# Row (ligne) major comme C++ \n",
    "# [0, 100[ - https://numpy.org/doc/stable/reference/random/index.html#random-quick-start                                             \n",
    "A = np.random.randint(0, 100, [5,5])  \n",
    "print(A) \n",
    "print(A.shape)          # tuple avec la taille de chaque dimension\n",
    "print(A.ndim)           # le nb de dimensions\n",
    "print(A.size)           # le nb de cellule\n"
   ]
  },
  {
   "cell_type": "code",
   "execution_count": 10,
   "metadata": {},
   "outputs": [
    {
     "name": "stdout",
     "output_type": "stream",
     "text": [
      "[0 1 2 3]\n",
      "\n",
      "[[1]\n",
      " [2]\n",
      " [3]]\n",
      "\n",
      "[1 2 3]\n",
      "\n",
      "[[100 101 102]\n",
      " [103 104 105]\n",
      " [106 107 108]]\n",
      "\n",
      "{'Experience 0': array([1.1730845 , 0.48419163, 0.50186945]), 'Experience 1': array([0.90879781, 0.37023261, 0.39293042]), 'Experience 2': array([1.1316552 , 1.44137279, 0.14150722]), 'Experience 3': array([-1.07993141,  0.41610611,  0.9973634 ]), 'Experience 4': array([-0.87480093,  0.852543  , -0.44147719]), 'Experience 5': array([ 1.21944838, -1.5842851 , -0.6202762 ]), 'Experience 6': array([1.60237982, 1.21003658, 0.41238789]), 'Experience 7': array([0.38454473, 1.17394849, 0.65581362]), 'Experience 8': array([-0.27728427, -0.25508762,  1.84503144]), 'Experience 9': array([-0.80433396,  0.43787014, -1.21604578])}\n",
      "\n",
      "[[-0.16811216  0.28209108  0.30996845  1.4964755 ]\n",
      " [ 1.16911256  0.82003169  0.33280388  0.12656524]\n",
      " [ 1.53987703  0.51497908 -0.86048719 -0.47074262]]\n"
     ]
    }
   ],
   "source": [
    "A = np.array([0, 1, 2, 3])                # 1D et 4 ele\n",
    "print(A)\n",
    "print()\n",
    "\n",
    "B = np.array([1,2,3]).reshape(3,1)        # Z! Important                     \n",
    "print(B)\n",
    "print()\n",
    "B = B.squeeze()                           # (3, 1) -> (3, )\n",
    "print(B)\n",
    "print()\n",
    "\n",
    "C = np.array([i for i in range(100, 109)]).reshape(3,3)\n",
    "print(C)\n",
    "print()\n",
    "\n",
    "# Construit un Dataset (dico) de 10 expériences avec 3 valeurspts chacunes\n",
    "Dataset = {f\"Experience {i}\" : np.random.randn(3) for i in range(10)} \n",
    "print(Dataset)\n",
    "print()\n",
    "\n",
    "# 3 lignes, 4 col avec des valeurs entre 0 et 1\n",
    "# n comme normalized \n",
    "# y a aussi un np.random.seed(0)\n",
    "D = np.random.randn(3,4)                    \n",
    "print(D)"
   ]
  },
  {
   "cell_type": "code",
   "execution_count": 14,
   "metadata": {},
   "outputs": [
    {
     "name": "stdout",
     "output_type": "stream",
     "text": [
      "[[1. 0. 0. 0.]\n",
      " [0. 1. 0. 0.]\n",
      " [0. 0. 1. 0.]\n",
      " [0. 0. 0. 1.]]\n",
      "\n",
      "[[1. 1.]\n",
      " [1. 1.]\n",
      " [1. 1.]]\n",
      "\n",
      "[[0. 0.]\n",
      " [0. 0.]\n",
      " [0. 0.]]\n",
      "\n"
     ]
    }
   ],
   "source": [
    "# matrice identité 4x4\n",
    "MyTab = np.eye(4)     \n",
    "print(MyTab)\n",
    "print()\n",
    "\n",
    "MyTab = np.ones((3,2)) # passer un tuple\n",
    "print(MyTab)\n",
    "print()\n",
    "\n",
    "MyTab = np.zeros((3,2))                   \n",
    "print(MyTab)\n",
    "print()\n",
    "\n",
    "\n"
   ]
  },
  {
   "cell_type": "code",
   "execution_count": 16,
   "metadata": {},
   "outputs": [
    {
     "name": "stdout",
     "output_type": "stream",
     "text": [
      "[10.         10.1010101  10.2020202  10.3030303  10.4040404  10.50505051\n",
      " 10.60606061 10.70707071 10.80808081 10.90909091 11.01010101 11.11111111\n",
      " 11.21212121 11.31313131 11.41414141 11.51515152 11.61616162 11.71717172\n",
      " 11.81818182 11.91919192 12.02020202 12.12121212 12.22222222 12.32323232\n",
      " 12.42424242 12.52525253 12.62626263 12.72727273 12.82828283 12.92929293\n",
      " 13.03030303 13.13131313 13.23232323 13.33333333 13.43434343 13.53535354\n",
      " 13.63636364 13.73737374 13.83838384 13.93939394 14.04040404 14.14141414\n",
      " 14.24242424 14.34343434 14.44444444 14.54545455 14.64646465 14.74747475\n",
      " 14.84848485 14.94949495 15.05050505 15.15151515 15.25252525 15.35353535\n",
      " 15.45454545 15.55555556 15.65656566 15.75757576 15.85858586 15.95959596\n",
      " 16.06060606 16.16161616 16.26262626 16.36363636 16.46464646 16.56565657\n",
      " 16.66666667 16.76767677 16.86868687 16.96969697 17.07070707 17.17171717\n",
      " 17.27272727 17.37373737 17.47474747 17.57575758 17.67676768 17.77777778\n",
      " 17.87878788 17.97979798 18.08080808 18.18181818 18.28282828 18.38383838\n",
      " 18.48484848 18.58585859 18.68686869 18.78787879 18.88888889 18.98989899\n",
      " 19.09090909 19.19191919 19.29292929 19.39393939 19.49494949 19.5959596\n",
      " 19.6969697  19.7979798  19.8989899  20.        ]\n",
      "\n",
      "[10.    10.7   11.41  12.11  12.81  13.516 14.22  14.92  15.625 16.33\n",
      " 17.03  17.73  18.44  19.14  19.84 ]\n",
      "\n"
     ]
    }
   ],
   "source": [
    "# 100 points entre [10 et 20]\n",
    "F = np.linspace(10, 20, 100)   \n",
    "print(F)\n",
    "print()            \n",
    "\n",
    "# n points entre [10 et 20[ au pas de .7  \n",
    "G = np.arange(10, 20, .7, dtype=np.float16)\n",
    "print(G)\n",
    "print()"
   ]
  },
  {
   "cell_type": "code",
   "execution_count": 26,
   "metadata": {},
   "outputs": [
    {
     "name": "stdout",
     "output_type": "stream",
     "text": [
      "[[-0.74798541 -0.10339651  0.5202796 ]\n",
      " [-1.18914663  0.00878388  0.50910167]\n",
      " [ 0.23587011  0.52199622  0.36530682]]\n",
      "\n",
      "[[1. 0. 0.]\n",
      " [0. 1. 0.]\n",
      " [0. 0. 1.]]\n",
      "\n",
      "[[-0.74798541 -0.10339651  0.5202796 ]\n",
      " [-1.18914663  0.00878388  0.50910167]\n",
      " [ 0.23587011  0.52199622  0.36530682]\n",
      " [ 1.          0.          0.        ]\n",
      " [ 0.          1.          0.        ]\n",
      " [ 0.          0.          1.        ]]\n",
      "\n",
      "[[-0.74798541 -0.10339651  0.5202796   1.          0.          0.        ]\n",
      " [-1.18914663  0.00878388  0.50910167  0.          1.          0.        ]\n",
      " [ 0.23587011  0.52199622  0.36530682  0.          0.          1.        ]]\n",
      "\n",
      "[[-0.74798541 -0.10339651]\n",
      " [ 0.5202796   1.        ]\n",
      " [ 0.          0.        ]\n",
      " [-1.18914663  0.00878388]\n",
      " [ 0.50910167  0.        ]\n",
      " [ 1.          0.        ]\n",
      " [ 0.23587011  0.52199622]\n",
      " [ 0.36530682  0.        ]\n",
      " [ 0.          1.        ]]\n",
      "\n"
     ]
    }
   ],
   "source": [
    "Tab1 = np.random.randn(3, 3) \n",
    "print(Tab1)\n",
    "print()\n",
    "\n",
    "Tab2 = np.eye(3, 3) \n",
    "print(Tab2)\n",
    "print()\n",
    "\n",
    "# axis = 0 => vertical\n",
    "Tab5 = np.concatenate((Tab1, Tab2), axis=0)\n",
    "print(Tab5)\n",
    "print()\n",
    "\n",
    "# axis = 1 => horizontal   \n",
    "Tab6 = np.concatenate((Tab1, Tab2), axis=1) \n",
    "print(Tab6)\n",
    "print()\n",
    "\n",
    "Tab7 = Tab6.reshape(9, 2) \n",
    "print(Tab7)\n",
    "print()"
   ]
  },
  {
   "cell_type": "code",
   "execution_count": 28,
   "metadata": {},
   "outputs": [
    {
     "name": "stdout",
     "output_type": "stream",
     "text": [
      "[[ 0.30672516 -0.11726129]\n",
      " [-0.10063835 -1.43442927]]\n",
      "\n",
      "[ 0.30672516 -0.11726129 -0.10063835 -1.43442927]\n",
      "\n"
     ]
    }
   ],
   "source": [
    "# transforme en tableau 1D. \n",
    "# Utile pour \n",
    "#    les spectres d'images \n",
    "#    les images en entrée de réseau de neurones\n",
    "#    optimize.minimize (x0)\n",
    "Tab1 = np.random.randn(2, 2) \n",
    "print(Tab1)\n",
    "print()\n",
    "\n",
    "Tab2 = Tab1.ravel()   \n",
    "print(Tab2)\n",
    "print()\n"
   ]
  },
  {
   "cell_type": "code",
   "execution_count": 29,
   "metadata": {},
   "outputs": [
    {
     "name": "stdout",
     "output_type": "stream",
     "text": [
      "[[ 0.22641225  0.05130817  0.33127517  0.16916666]\n",
      " [ 1.09125223 -0.14177761 -1.44419525  1.16691396]\n",
      " [ 0.55443991 -0.60935397  0.6704893  -0.84635889]]\n",
      "\n",
      "[[ 0.22641225  0.05130817  0.33127517  1.        ]\n",
      " [ 1.09125223 -0.14177761 -1.44419525  1.        ]\n",
      " [ 0.55443991 -0.60935397  0.6704893   1.        ]]\n"
     ]
    },
    {
     "data": {
      "text/plain": [
       "<function print>"
      ]
     },
     "execution_count": 29,
     "metadata": {},
     "output_type": "execute_result"
    }
   ],
   "source": [
    "X = np.random.randn(3, 4)\n",
    "print(X)\n",
    "print()\n",
    "X[:,-1:] = 1           # met des 1 dans la dernière colonne\n",
    "print(X)\n",
    "print"
   ]
  },
  {
   "cell_type": "code",
   "execution_count": 2,
   "metadata": {},
   "outputs": [
    {
     "name": "stdout",
     "output_type": "stream",
     "text": [
      "Matrice 3x3 :\n",
      "[[-0.44005747  0.4779577  -0.27853577]\n",
      " [-0.83849533  0.56884896 -0.06397348]\n",
      " [ 0.54772505 -1.05278659 -1.49641234]]\n",
      "\n",
      "[[-0.44005747  0.4779577  -0.27853577]\n",
      " [-0.83849533  0.56884896 -0.06397348]\n",
      " [ 0.54772505 -1.05278659 -1.49641234]]\n",
      "\n",
      "Colonne 0 :  [-0.44005747 -0.83849533  0.54772505]\n",
      "\n",
      "[[-0.44005747  0.4779577  -0.27853577]\n",
      " [-0.83849533  0.56884896 -0.06397348]\n",
      " [ 0.54772505 -1.05278659 -1.49641234]]\n",
      "Colonne 2 :  [-0.27853577 -0.06397348 -1.49641234]\n",
      "\n",
      "[[-0.44005747  0.4779577  -0.27853577]\n",
      " [-0.83849533  0.56884896 -0.06397348]\n",
      " [ 0.54772505 -1.05278659 -1.49641234]]\n",
      "\n",
      "Ligne 1   :  [-0.83849533  0.56884896 -0.06397348]\n",
      "\n",
      "[[-0.44005747  0.4779577  -0.27853577]\n",
      " [-0.83849533  0.56884896 -0.06397348]\n",
      " [ 0.54772505 -1.05278659 -1.49641234]]\n",
      "\n",
      "Ligne 2   :  [ 0.54772505 -1.05278659 -1.49641234]\n",
      "\n"
     ]
    }
   ],
   "source": [
    "A = np.random.randn(3, 3) \n",
    "print (f\"Matrice 3x3 :\")\n",
    "print(A)\n",
    "print()\n",
    "\n",
    "# slicing A[debut:fin:pas, debut:fin:pas]\n",
    "print(A)\n",
    "print()\n",
    "print(\"Colonne 0 : \", A[:, 0])\n",
    "print()\n",
    "\n",
    "print(A)\n",
    "print(\"Colonne 2 : \", A[:, 2])\n",
    "print()\n",
    "\n",
    "print(A)\n",
    "print()\n",
    "print(\"Ligne 1   : \", A[1, :])\n",
    "print()\n",
    "\n",
    "print(A)\n",
    "print()\n",
    "print(\"Ligne 2   : \", A[2])                   \n",
    "print()\n"
   ]
  },
  {
   "cell_type": "code",
   "execution_count": 5,
   "metadata": {},
   "outputs": [
    {
     "name": "stdout",
     "output_type": "stream",
     "text": [
      "[[-0.94325467  0.97698517 -0.23986991]\n",
      " [ 0.18349751 -0.54183462  0.90999597]\n",
      " [-0.08684661  0.47352754 -0.52180052]]\n",
      "\n",
      "subseting. /!\\ de 0 à 2 exclu\n",
      "[[-0.94325467  0.97698517]\n",
      " [ 0.18349751 -0.54183462]]\n",
      "\n",
      "[[-0.94325467  0.97698517 -0.23986991]\n",
      " [ 0.18349751 -0.54183462  0.90999597]\n",
      " [-0.08684661  0.47352754 -0.52180052]]\n",
      "\n",
      "Initialise une sous-partie de la matrice\n",
      "[[ 3.14        3.14       -0.23986991]\n",
      " [ 3.14        3.14        0.90999597]\n",
      " [-0.08684661  0.47352754 -0.52180052]]\n",
      "\n",
      "[[ 3.14        3.14       -0.23986991]\n",
      " [ 3.14        3.14        0.90999597]\n",
      " [-0.08684661  0.47352754 -0.52180052]]\n",
      "\n",
      "copier les 2 dernières colonnes\n",
      "[[ 3.14       -0.23986991]\n",
      " [ 3.14        0.90999597]\n",
      " [ 0.47352754 -0.52180052]]\n",
      "\n",
      "[[ 3.14        3.14       -0.23986991]\n",
      " [ 3.14        3.14        0.90999597]\n",
      " [-0.08684661  0.47352754 -0.52180052]]\n",
      "\n",
      "insérer un damier de 1\n",
      "[[1.         3.14       1.        ]\n",
      " [3.14       3.14       0.90999597]\n",
      " [1.         0.47352754 1.        ]]\n",
      "\n",
      "[[  1.         100.           1.        ]\n",
      " [100.         100.           0.90999597]\n",
      " [  1.           0.47352754   1.        ]]\n",
      "\n",
      "[[1 5 4 7 4]\n",
      " [2 4 2 9 3]\n",
      " [6 4 7 1 5]\n",
      " [6 2 0 2 2]\n",
      " [4 2 0 8 5]]\n",
      "\n",
      "[[1 5 4 7 4]\n",
      " [2 4 2 9 3]\n",
      " [6 4 7 1 5]\n",
      " [6 2 0 2 2]\n",
      " [4 2 0 8 5]]\n",
      "\n"
     ]
    }
   ],
   "source": [
    "A = np.random.randn(3, 3) \n",
    "\n",
    "# subseting. /!\\ de 0 à 2 exclu\n",
    "print(A)\n",
    "print()\n",
    "print(\"subseting. /!\\ de 0 à 2 exclu\")\n",
    "B = A[0:2, 0:2]   \n",
    "print(B)\n",
    "print()\n",
    "\n",
    "# Initialise une sous-partie de la matrice\n",
    "print(A)\n",
    "print()\n",
    "print(\"Initialise une sous-partie de la matrice\")\n",
    "A[0:2, 0:2] = 3.14  \n",
    "print(A)\n",
    "print()\n",
    "\n",
    "# copier les 2 dernières colonnes\n",
    "print(A)\n",
    "print()\n",
    "print(\"copier les 2 dernières colonnes\")\n",
    "D = A[:,-2:]\n",
    "print(D)\n",
    "print()\n",
    "\n"
   ]
  },
  {
   "cell_type": "code",
   "execution_count": 11,
   "metadata": {},
   "outputs": [
    {
     "name": "stdout",
     "output_type": "stream",
     "text": [
      "[[-1.90787622 -0.70466858 -0.61021942]\n",
      " [-1.09318903 -0.72615854  0.50912354]\n",
      " [ 0.2613719  -1.09160318  0.00214481]]\n",
      "\n",
      "insérer un damier de 1\n",
      "[[ 1.         -0.70466858  1.        ]\n",
      " [-1.09318903 -0.72615854  0.50912354]\n",
      " [ 1.         -1.09160318  1.        ]]\n",
      "\n",
      "[[73 40 43 61 94]\n",
      " [ 6 70 22 30 46]\n",
      " [29 57 91 52 78]\n",
      " [66 78 87 62 62]\n",
      " [ 3 83 36  4 48]]\n",
      "\n",
      "Met à 0 si val inf à 20 OU val sup à 80\n",
      "[[73 40 43 61  0]\n",
      " [ 0 70 22 30 46]\n",
      " [29 57  0 52 78]\n",
      " [66 78  0 62 62]\n",
      " [ 0  0 36  0 48]]\n",
      "\n"
     ]
    }
   ],
   "source": [
    "A = np.random.randn(3, 3) \n",
    "\n",
    "# insérer un damier de 1 \n",
    "print(A)\n",
    "print()\n",
    "E = A \n",
    "print(\"insérer un damier de 1\")\n",
    "E[::2, ::2] = 1     \n",
    "print(E)\n",
    "print()\n",
    "\n",
    "# mettre à 0 selon condition\n",
    "A = np.random.randint(0, 100, [5, 5]) \n",
    "print(A)\n",
    "print()\n",
    "\n",
    "print(\"Met à 0 si val inf à 20 OU val sup à 80\")\n",
    "A[(A<20) | (A>80)] = 0  \n",
    "print(A)\n",
    "print()\n",
    "\n"
   ]
  },
  {
   "cell_type": "code",
   "execution_count": 21,
   "metadata": {},
   "outputs": [
    {
     "name": "stdout",
     "output_type": "stream",
     "text": [
      "[[6 7 6 8 8]\n",
      " [9 6 4 0 9]\n",
      " [1 6 5 9 3]\n",
      " [5 4 1 1 8]\n",
      " [2 5 7 9 7]]\n",
      "2\n",
      "(5, 5)\n",
      "\n",
      "La matrice est devenue un vecteur dont les valeurs sont inf à 5\n",
      "[4 0 1 3 4 1 1 2]\n",
      "1\n",
      "(8,)\n",
      "\n"
     ]
    }
   ],
   "source": [
    "# Filtrage\n",
    "A = np.random.randint(0, 10, [5, 5])\n",
    "print(A)\n",
    "print(A.ndim)           \n",
    "print(A.shape)          \n",
    "\n",
    "print()\n",
    "\n",
    "# A n'est plus une matrice mais un vecteur!\n",
    "print (\"La matrice est devenue un vecteur dont les valeurs sont inf à 5\")\n",
    "A = A[A<5]                                   \n",
    "print(A)\n",
    "print(A.ndim)           \n",
    "print(A.shape)          \n",
    "print()\n",
    "\n"
   ]
  },
  {
   "cell_type": "code",
   "execution_count": 26,
   "metadata": {},
   "outputs": [
    {
     "name": "stdout",
     "output_type": "stream",
     "text": [
      "Matrice A : \n",
      " [[1 3 6 8 1]\n",
      " [1 6 8 2 7]\n",
      " [9 9 6 3 4]\n",
      " [8 6 6 9 1]\n",
      " [6 3 2 3 0]]\n",
      "\n",
      "Matrice B :\n",
      " [[ 0.72790594 -0.12322369  0.11560007 -0.08114708 -0.83476687]\n",
      " [ 1.22206688  0.10715518  0.16838814  0.3241939  -0.468784  ]\n",
      " [-0.64867714 -1.23889137  1.26820992 -1.25109156  1.91779441]\n",
      " [ 1.20815591 -0.52496718  0.71123522  1.01597898 -0.26924885]\n",
      " [-0.11237434 -0.63765668  0.95553879 -0.55164505 -1.0669719 ]]\n",
      "\n",
      "Vecteur qui ne retient de B que les valeurs filtrées selon le 'Val<2' appliqué à A:\n",
      "[ 0.72790594 -0.83476687  1.22206688 -0.26924885 -1.0669719 ]\n",
      "\n"
     ]
    }
   ],
   "source": [
    "A = np.random.randint(0,10, [5,5])\n",
    "print(\"Matrice A : \\n\", A)\n",
    "print()\n",
    "\n",
    "B = np.random.randn(5, 5)\n",
    "print(f\"Matrice B :\\n {B}\", )\n",
    "print()\n",
    "\n",
    "C = B[A<2]                                # on applique à B le filtre A < 2\n",
    "print(f\"Vecteur qui ne retient de B que les valeurs filtrées suivant 'Val<2' appliqué à A:\")\n",
    "print(f\"{C}\\n\")\n",
    "  "
   ]
  },
  {
   "cell_type": "code",
   "execution_count": 32,
   "metadata": {},
   "outputs": [
    {
     "name": "stdout",
     "output_type": "stream",
     "text": [
      "[[6 0 7 6 2]\n",
      " [7 3 0 5 6]\n",
      " [2 4 7 3 6]]\n",
      "\n",
      "Somme de tous les éléments :\n",
      "64\n",
      "\n",
      "Un vecteur de 'colonnes' éléments contenant la somme de chaque colonne :\n",
      "[15  7 14 14 14]\n",
      "\n",
      "Un vecteur de 'A.size()' éléments contenant la somme cumulée :\n",
      "[ 6  6 13 19 21 28 31 31 36 42 44 48 55 58 64]\n",
      "\n",
      "Une matrice avec sur chaque ligne, la somme cumulée le long des colonnes\n",
      "[[ 6  6 13 19 21]\n",
      " [ 7 10 10 15 21]\n",
      " [ 2  6 13 16 22]]\n",
      "\n",
      "Un vecteur avec la position des minimums dans les colonnes\n",
      "[2 0 1 2 0]\n",
      "\n",
      "Une matrice de même dimension que A\n",
      "Contient les indices pour trier sur chaque ligne, selon les colonnes\n",
      "[[1 4 0 3 2]\n",
      " [2 1 3 4 0]\n",
      " [0 3 1 4 2]]\n",
      "\n"
     ]
    },
    {
     "data": {
      "text/plain": [
       "array([5.        , 2.33333333, 4.66666667, 4.66666667, 4.66666667])"
      ]
     },
     "execution_count": 32,
     "metadata": {},
     "output_type": "execute_result"
    }
   ],
   "source": [
    "A = np.random.randint(0, 10, (3, 5))\n",
    "print(A)\n",
    "print()\n",
    "\n",
    "# somme de tous les éléments\n",
    "print(\"Somme de tous les éléments :\")\n",
    "print(A.sum())\n",
    "print()                            \n",
    "\n",
    "# un vecteur de col éléments. Somme selon chaque colonne\n",
    "print(\"Un vecteur de 'colonnes' éléments contenant la somme de chaque colonne :\")\n",
    "print(A.sum(axis=0))\n",
    "print()                             \n",
    "\n",
    "# un vecteur de A.size élé\n",
    "# contient la somme cumulée en row major (ligne à ligne)\n",
    "print(\"Un vecteur de 'A.size()' éléments contenant la somme cumulée :\")\n",
    "print(A.cumsum())\n",
    "print()\n",
    "\n",
    "# Une matrice. \n",
    "# Sur chaque ligne, somme cumulée le long des colonnes\n",
    "print(\"Une matrice avec sur chaque ligne, la somme cumulée le long des colonnes\")\n",
    "print(A.cumsum(axis=1))\n",
    "print()\n",
    "\n",
    "# un vecteur avec la position des minimums dans les colonnes\n",
    "print(\"Un vecteur avec la position des minimums dans les colonnes\")\n",
    "print(A.argmin(axis=0))\n",
    "print()                          \n",
    "\n",
    "# une matrice de même dimension que A. Contient les indices\n",
    "# pour trier sur chaque ligne, selon les colonnes \n",
    "print(\"Une matrice de même dimension que A\")\n",
    "print(\"Contient les indices pour trier sur chaque ligne, selon les colonnes\")\n",
    "print(A.argsort(axis=1))\n",
    "print()                         \n",
    "\n",
    "\n"
   ]
  },
  {
   "cell_type": "code",
   "execution_count": 33,
   "metadata": {},
   "outputs": [
    {
     "name": "stdout",
     "output_type": "stream",
     "text": [
      "[[7 8 2 0 7]\n",
      " [7 4 3 5 5]\n",
      " [7 8 4 0 6]]\n",
      "\n",
      "Moyenne des valeurs de la matrice\n",
      "4.866666666666666\n",
      "\n",
      "Moyenne de chaque colonne\n",
      "[7.         6.66666667 3.         1.66666667 6.        ]\n",
      "\n"
     ]
    }
   ],
   "source": [
    "A = np.random.randint(0, 10, (3, 5))\n",
    "print(A)\n",
    "print()\n",
    "\n",
    "print(\"Moyenne des valeurs de la matrice\")\n",
    "print(A.mean())\n",
    "print()\n",
    "\n",
    "# moyenne des colonnes\n",
    "print(\"Moyenne de chaque colonne\")\n",
    "print(A.mean(axis=0))                            \n",
    "print()"
   ]
  },
  {
   "cell_type": "markdown",
   "metadata": {},
   "source": [
    "# À mettre sous forme de mini cellule"
   ]
  },
  {
   "cell_type": "code",
   "execution_count": 9,
   "metadata": {},
   "outputs": [
    {
     "ename": "SyntaxError",
     "evalue": "invalid syntax. Perhaps you forgot a comma? (914802043.py, line 12)",
     "output_type": "error",
     "traceback": [
      "\u001b[1;36m  Cell \u001b[1;32mIn[9], line 12\u001b[1;36m\u001b[0m\n\u001b[1;33m    Tab2 = np.ones((3,2)\u001b[0m\n\u001b[1;37m                   ^\u001b[0m\n\u001b[1;31mSyntaxError\u001b[0m\u001b[1;31m:\u001b[0m invalid syntax. Perhaps you forgot a comma?\n"
     ]
    }
   ],
   "source": [
    "\n",
    "\n",
    "                                            \n",
    "\n",
    "\n",
    "\n",
    "\n",
    "\n",
    "A = np.exp(A\n",
    "# Matrice des coefs de correlation entre les lignes de A\n",
    "np.corrcoef(A)                            \n",
    "# Coef de correlation entre les lignes 0 et 1 de A\n",
    "np.corrcoef(A)[0,1]                      \n",
    "# retroune les valeurs classées et leurs nombres d'apparations\n",
    "V, C = np.unique(A, return_counts=True)   \n",
    "# Les index des occurences pour les trier en ordre croissant\n",
    "B = C.argsort()                           \n",
    "# Les valeurs triées par nombre d'occurence croissant \n",
    "V[C.argsort()]                           \n",
    "# V = values, C = Counts\n",
    "for i,j in zip(V[C.argsort()], C[C.argsort()]): \n",
    "  # zip agrège des itérables dans un tuple\n",
    "  print(f\"La valeur {i} apparaît {j} fois.\")   \n",
    "# met un Nan dans en 4,3 dans matrice A\n",
    "A[4,3]= np.nan                            \n",
    "# moy avec des Nan dans la matrice\n",
    "np.nanmean(A)                            \n",
    "# masque booléen avec T quand y a un Nan\n",
    "B = np.isnan(A)                           \n",
    "# compter les Nan\n",
    "NbDeNan = B.sum()                         \n",
    "Qualité = NbDeNan/A.siz\n",
    "# # On remplace les Nan par 0.0\n",
    "A[np.isnan(A)]=0.0                       \n",
    "# Algèbre linéaire\n",
    "# Transposée\n",
    "A.T                                       \n",
    "A.dot(B)\n",
    "# déterminant\n",
    "np.linalg.det(A)                          \n",
    "# inverse\n",
    "np.linalg.inv(A)                          \n",
    "# valeurs propres\n",
    "np.linalg.eig(A)                         \n",
    "# Broadcasting\n",
    "# Etendre les dimensions d'un tableau\n",
    "# REGLE : \n",
    "# les dimensions de A et B doivent être identiques\n",
    "# ou alors l'une des 2 est égale à 1\n",
    "# Matrice (2,3) et matrice (2,3) OK\n",
    "# Matrice (2,3) et matrice (2,2) NOK\n",
    "# Matrice (2,3) et matrice (2,1) OK (on transforme le 1 en\n",
    "# 3. On répette à droite le motif (2,1) pour couvrir (2,3))\n",
    "# Matrice (2,3) et matrice (3,1) NOK\n",
    "# Matrice (4,1) et matrice (1,3) OK (on broadcast dans les \n",
    "# 2 axes\n",
    "# ajoute 2 partout. scalaire == tableau 1x1\n",
    "A = A + 2                                 \n",
    "# A et B même shape\n",
    "C = A + B                                \n",
    "A = np.random.randint(0,100,(2,3))\n",
    "B = np.ones((2,1))                        \n",
    "# B est étendue et dupliquée à droite 2 fois (3 colonnes)  \n",
    "# l'addition se fait ensuite\n",
    "A+B                                       \n",
    "                                         \n",
    "A = np.random.randint(0,100,(2,3))\n",
    "B = np.ones((1,3))\n",
    "# B est étendue et dupliquée en bas 2 fois (3 lignes)\n",
    "# l'addition se fait ensuite\n",
    "A+B                                       \n",
    "                                         \n",
    "A = np.random.randint(0,100,(4,3))\n",
    "B = np.ones((1,3))\n",
    "A+\n",
    "A = np.random.randint(0,100,(4,1))\n",
    "B = np.ones((1,3))\n",
    "# Matrice 4x3. \n",
    "# A est étendue en bas 2 fois (3 lignes) et le contenu de \n",
    "# la ligne est répété\n",
    "# B est étendue à droite 3 fois (4 colonnes) et le contenu\n",
    "# de la colonne est répété\n",
    "# l'addition se fait ensuite\n",
    "A+B                \n",
    "# Z! broadcast intenpestifs. Utiliser reshape\n",
    "A = np.random.randint(0,10,(4,1))\n",
    "B = np.ones((3))\n",
    "B = B.reshape(3,1"
   ]
  }
 ],
 "metadata": {
  "kernelspec": {
   "display_name": "base",
   "language": "python",
   "name": "python3"
  },
  "language_info": {
   "codemirror_mode": {
    "name": "ipython",
    "version": 3
   },
   "file_extension": ".py",
   "mimetype": "text/x-python",
   "name": "python",
   "nbconvert_exporter": "python",
   "pygments_lexer": "ipython3",
   "version": "3.10.12"
  },
  "orig_nbformat": 4
 },
 "nbformat": 4,
 "nbformat_minor": 2
}
