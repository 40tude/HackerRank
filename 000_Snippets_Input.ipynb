{
 "cells": [
  {
   "cell_type": "code",
   "execution_count": 1,
   "metadata": {},
   "outputs": [],
   "source": [
    "# 42\n",
    "n = int(input().strip()) \n",
    "a = int(input()) \n",
    "\n",
    "# 3.14\n",
    "y = float(input())\n",
    "\n"
   ]
  },
  {
   "cell_type": "code",
   "execution_count": 1,
   "metadata": {},
   "outputs": [
    {
     "name": "stdout",
     "output_type": "stream",
     "text": [
      "42 99\n"
     ]
    }
   ],
   "source": [
    "# Lire 2 entiers qui sont sur une même ligne\n",
    "n, m = map(int, input().split())\n",
    "print (n, m)"
   ]
  },
  {
   "cell_type": "code",
   "execution_count": null,
   "metadata": {},
   "outputs": [],
   "source": [
    "# 5 k\n",
    "i, c = input().split()\n",
    "i = int(i)"
   ]
  },
  {
   "cell_type": "code",
   "execution_count": 2,
   "metadata": {},
   "outputs": [
    {
     "name": "stdout",
     "output_type": "stream",
     "text": [
      "1\n",
      "121\n",
      "12321\n",
      "1234321\n",
      "123454321\n"
     ]
    }
   ],
   "source": [
    "# 4\n",
    "# on lit une seule fois\n",
    "for n in range(1,int(input())+1): \n",
    "  print((((10**n -1)//9)**2))       "
   ]
  },
  {
   "cell_type": "code",
   "execution_count": null,
   "metadata": {},
   "outputs": [],
   "source": [
    "# ABCDEFGHIJKLIMNOQRSTUVWXYZ\n",
    "# 4\n",
    "string, max_width = input(), int(input())"
   ]
  },
  {
   "cell_type": "code",
   "execution_count": null,
   "metadata": {},
   "outputs": [],
   "source": [
    "# stocker dans une liste ou un tuple\n",
    "# 42 65 95 99\n",
    "arr = list(map(int, input().split()))   \n",
    "t   = tuple(map(int, input().split()))   \n"
   ]
  },
  {
   "cell_type": "code",
   "execution_count": null,
   "metadata": {},
   "outputs": [],
   "source": [
    "# 5\n",
    "# Harry\n",
    "# 37.21\n",
    "# Berry\n",
    "# 37.21\n",
    "# Tina\n",
    "# ...\n",
    "\n",
    "Students=[]\n",
    "for _ in range(int(input())):                                    \n",
    "  name = input()\n",
    "  score = float(input())\n",
    "  Students.append([name, score])"
   ]
  },
  {
   "cell_type": "code",
   "execution_count": null,
   "metadata": {},
   "outputs": [],
   "source": [
    "# 2\n",
    "# Harsh 25 26.5 28\n",
    "# Anurag 26 28 30\n",
    "\n",
    "n = int(input())\n",
    "student_marks = {}                    \n",
    "for _ in range(n):\n",
    "  # *line : the unpacking operator voir https://geekflare.com/python-unpacking-operators/\n",
    "  name, *line = input().split()\n",
    "  student_marks[name] = list(map(float, line))\n",
    "  "
   ]
  },
  {
   "cell_type": "code",
   "execution_count": null,
   "metadata": {},
   "outputs": [],
   "source": [
    "# 10 2  5\n",
    "# 7  1  0\n",
    "# 9  9  9\n",
    "\n",
    "# On a déjà lu NbAthletes\n",
    "arr = []\n",
    "for _ in range(NbAthletes):\n",
    "  arr.append(list(map(int, input().rstrip().split())))"
   ]
  },
  {
   "cell_type": "code",
   "execution_count": null,
   "metadata": {},
   "outputs": [],
   "source": [
    "# 12\n",
    "# insert 0 5\n",
    "# insert 1 10\n",
    "# insert 0 6\n",
    "# print\n",
    "\n",
    "N = int(input())\n",
    "Program = []\n",
    "for _ in range(N):\n",
    "  Instruction = input().split()\n",
    "  Program.append(Instruction)"
   ]
  },
  {
   "cell_type": "code",
   "execution_count": null,
   "metadata": {},
   "outputs": [],
   "source": [
    "# 10\n",
    "# 2 3 4 5 6 8 7 6 5 18\n",
    "# 6\n",
    "# 6 55\n",
    "# 6 45\n",
    "# 6 55\n",
    "# 4 40\n",
    "# 18 60\n",
    "# 10 50\n",
    "\n",
    "# A counter is a container that stores elements as dictionary keys, and their counts are stored as dictionary values.\n",
    "# La clé 6 aura la valeur 2\n",
    "from collections import Counter  \n",
    "NbShoes = int(input())\n",
    "Stock = Counter(list(map(int, input().split())))   # KeepInMind\n",
    "\n",
    "NbRequests = int(input())\n",
    "Requests=[]\n",
    "for i in range(NbRequests):\n",
    "  #Requests.append(list(map(int, input().split())))\n",
    "  Requests.append(tuple(map(int, input().split())))"
   ]
  },
  {
   "cell_type": "code",
   "execution_count": null,
   "metadata": {},
   "outputs": [],
   "source": [
    "# 5 2     \n",
    "# a\n",
    "# a\n",
    "# b\n",
    "# a\n",
    "# b\n",
    "# a\n",
    "# z\n",
    "\n",
    "A_Size, B_Size = map(int, input().split())\n",
    "A = []\n",
    "B = []\n",
    "[A.append(input()) for n in range(A_Size)]\n",
    "[B.append(input()) for n in range(B_Size)]\n"
   ]
  }
 ],
 "metadata": {
  "kernelspec": {
   "display_name": "base",
   "language": "python",
   "name": "python3"
  },
  "language_info": {
   "codemirror_mode": {
    "name": "ipython",
    "version": 3
   },
   "file_extension": ".py",
   "mimetype": "text/x-python",
   "name": "python",
   "nbconvert_exporter": "python",
   "pygments_lexer": "ipython3",
   "version": "3.10.12"
  },
  "orig_nbformat": 4
 },
 "nbformat": 4,
 "nbformat_minor": 2
}
