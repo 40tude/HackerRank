{
 "cells": [
  {
   "cell_type": "code",
   "execution_count": 15,
   "metadata": {},
   "outputs": [
    {
     "name": "stdout",
     "output_type": "stream",
     "text": [
      "fifi riri loulou\n",
      "1 2 3\n"
     ]
    }
   ],
   "source": [
    "l = [\"fifi\", \"riri\", \"loulou\"]\n",
    "print (*l)\n",
    "\n",
    "l = [1, 2 ,3]\n",
    "# *line : the unpacking operator voir https://geekflare.com/python-unpacking-operators/\n",
    "print (*l)\n",
    "\n"
   ]
  },
  {
   "cell_type": "code",
   "execution_count": 21,
   "metadata": {},
   "outputs": [
    {
     "name": "stdout",
     "output_type": "stream",
     "text": [
      "fifi, riri, loulou\n",
      "1, 2, 3\n",
      "P -*- h -*- i -*- l -*- i -*- p -*- p -*- e\n",
      "a-b-c-d-e-f-g-h-i-j-k-l-m-n-o-p-q-r-s-t-u-v-w-x-y-z\n"
     ]
    }
   ],
   "source": [
    "l = [\"fifi\", \"riri\", \"loulou\"]\n",
    "print (\", \".join(l))\n",
    "\n",
    "\n",
    "l = [1, 2 ,3]\n",
    "print (\", \".join((map(str,l))))\n",
    "\n",
    "String = \"Philippe\"\n",
    "print(\" -*- \".join(String))\n",
    "\n",
    "Alpha = \"a b c d e f g h i j k l m n o p q r s t u v w x y z\".split()\n",
    "print (\"-\".join(Alpha)) "
   ]
  },
  {
   "cell_type": "code",
   "execution_count": 2,
   "metadata": {},
   "outputs": [
    {
     "name": "stdout",
     "output_type": "stream",
     "text": [
      "a - b - c - d - e - f - g - h - i - j - k - l - m - n - o - p - q - r - s - t - u - v - w - x - y - z -\n"
     ]
    }
   ],
   "source": [
    "Alpha = \"a b c d e f g h i j k l m n o p q r s t u v w x y z\".split()\n",
    "Fill  = \"- - - - - - - - - - - - - - - - - - - - - - - - - -\".split()\n",
    "Merge = Alpha + Fill\n",
    "# Merge = [None]*52\n",
    "Merge[::2] = Alpha\n",
    "Merge[1::2] = Fill  # Merge est une liste\n",
    "print(*Merge)\n"
   ]
  },
  {
   "cell_type": "code",
   "execution_count": 13,
   "metadata": {},
   "outputs": [
    {
     "data": {
      "text/plain": [
       "0.10130709999793908"
      ]
     },
     "execution_count": 13,
     "metadata": {},
     "output_type": "execute_result"
    }
   ],
   "source": []
  },
  {
   "cell_type": "code",
   "execution_count": 22,
   "metadata": {},
   "outputs": [
    {
     "name": "stdout",
     "output_type": "stream",
     "text": [
      "a b c d e\n",
      "f g h i j\n",
      "k l m n o\n",
      "p q r s t\n",
      "u v w x y\n",
      "z\n"
     ]
    }
   ],
   "source": [
    "# https://docs.python.org/fr/3.10/library/textwrap.html?highlight=textwrap#module-textwrap\n",
    "import textwrap\n",
    "wrapper = textwrap.TextWrapper(width=10)\n",
    "String = \"a b c d e f g h i j k l m n o p q r s t u v w x y z\"\n",
    "MyStr = wrapper.fill(text=String) \n",
    "print(MyStr) "
   ]
  },
  {
   "cell_type": "code",
   "execution_count": 24,
   "metadata": {},
   "outputs": [
    {
     "name": "stdout",
     "output_type": "stream",
     "text": [
      "              42\n",
      "              52\n",
      "              2A\n",
      "          101010\n"
     ]
    }
   ],
   "source": [
    "# https://docs.python.org/3/library/string.html#grammar-token-format-string-conversion\n",
    "i = 42\n",
    "MaxNbDigits = 16\n",
    "print(f\"{i: >{MaxNbDigits}d}\")                     \n",
    "print(f\"{i: >{MaxNbDigits}o}\")                     \n",
    "print(f\"{i: >{MaxNbDigits}X}\")\n",
    "print(f\"{i: >{MaxNbDigits}b}\")"
   ]
  },
  {
   "cell_type": "code",
   "execution_count": 34,
   "metadata": {},
   "outputs": [
    {
     "name": "stdout",
     "output_type": "stream",
     "text": [
      "99.70\n",
      "42****\n",
      "True\n",
      "----- WELCOME ------\n"
     ]
    }
   ],
   "source": [
    "Val = 99.7\n",
    "print(f\"{Val:.2f}\")\n",
    "\n",
    "i = 42\n",
    "print(f\"{i}\",end='****\\n')\n",
    "\n",
    "s = \"40tude\"\n",
    "print(\"True\") if any(letter.isalnum() for letter in s) else print(\"False\")\n",
    "\n",
    "Width = 20\n",
    "print(f\"{' WELCOME ':-^{Width}}\") "
   ]
  },
  {
   "cell_type": "code",
   "execution_count": 28,
   "metadata": {},
   "outputs": [
    {
     "name": "stdout",
     "output_type": "stream",
     "text": [
      "(1, 3) (1, 4) (2, 3) (2, 4) "
     ]
    },
    {
     "data": {
      "text/plain": [
       "[None, None, None, None]"
      ]
     },
     "execution_count": 28,
     "metadata": {},
     "output_type": "execute_result"
    }
   ],
   "source": [
    "# https://docs.python.org/fr/3.10/library/itertools.html?highlight=itertools\n",
    "from itertools import product\n",
    "A = (1, 2)\n",
    "B = (3, 4)\n",
    "\n",
    "[print(pt, end=' ') for pt in product(A,B)] # pas de \",\" entre les points (x, y)"
   ]
  },
  {
   "cell_type": "code",
   "execution_count": 1,
   "metadata": {},
   "outputs": [
    {
     "name": "stdout",
     "output_type": "stream",
     "text": [
      "i \t    10000\n",
      "i \t 10011100\n"
     ]
    }
   ],
   "source": [
    "# retrouver le nombre max de digit d'une valeur n pour formater l'affichage\n",
    "import math\n",
    "n = 156\n",
    "MaxNbDigits = 1+int(math.log(n)//math.log(2)) # Binaire\n",
    "\n",
    "i = 16\n",
    "print(f\"i \\t {i: >{MaxNbDigits}b}\")\n",
    "i = 156\n",
    "print(f\"i \\t {i: >{MaxNbDigits}b}\")"
   ]
  },
  {
   "cell_type": "code",
   "execution_count": null,
   "metadata": {},
   "outputs": [],
   "source": [
    "def Printing() :\n",
    "  ###########################################################\n",
    "  # Printing\n",
    "  ###########################################################\n",
    "\n",
    "  # https://docs.python.org/fr/3.10/library/statistics.html?highlight=statistics\n",
    "  # student_marks est un dico avec une liste de notes par nom\n",
    "  from statistics import mean\n",
    "  print(f\"{mean(student_marks[query_name]):.2f}\")  \n",
    "\n",
    "  \n",
    "\n",
    "  \n",
    "\n",
    "  \n",
    "\n",
    "  \n",
    "  \n",
    "\n",
    "  \n",
    "\n",
    "\n",
    "  "
   ]
  },
  {
   "cell_type": "markdown",
   "metadata": {},
   "source": [
    "# Revenir et mieux comprendre pourquoi y a les None..."
   ]
  },
  {
   "cell_type": "code",
   "execution_count": 52,
   "metadata": {},
   "outputs": [
    {
     "name": "stdout",
     "output_type": "stream",
     "text": [
      "A\n",
      "B\n",
      "z\n"
     ]
    },
    {
     "data": {
      "text/plain": [
       "[None, None, None]"
      ]
     },
     "execution_count": 52,
     "metadata": {},
     "output_type": "execute_result"
    }
   ],
   "source": [
    "List = [('A',), ('B',), ('z',)]\n",
    "# print(List)\n",
    "\n",
    "# print([\"\".join(t) for t in List])\n",
    "\n",
    "# print([t for t in List])\n",
    "\n",
    "# print(*[\"\".join(t) for t in List])\n",
    "\n",
    "[print(\"\".join(t)) for t in List]"
   ]
  },
  {
   "cell_type": "markdown",
   "metadata": {},
   "source": [
    "Si on rajoute un print(), à priori ça supprime les none.\n",
    "Je comprends pas pourquoi cependant"
   ]
  },
  {
   "cell_type": "code",
   "execution_count": 53,
   "metadata": {},
   "outputs": [
    {
     "name": "stdout",
     "output_type": "stream",
     "text": [
      "A\n",
      "B\n",
      "z\n",
      "\n"
     ]
    }
   ],
   "source": [
    "List = [('A',), ('B',), ('z',)]\n",
    "[print(\"\".join(t)) for t in List]\n",
    "print()"
   ]
  },
  {
   "cell_type": "code",
   "execution_count": 58,
   "metadata": {},
   "outputs": [
    {
     "name": "stdout",
     "output_type": "stream",
     "text": [
      "['fifi', 'riri', 'loulou']\n",
      "fifi\n",
      "riri\n",
      "loulou\n",
      "\n"
     ]
    }
   ],
   "source": [
    "l = [\"fifi\", \"riri\", \"loulou\"]\n",
    "# print([ (str) for str in l])\n",
    "\n",
    "[ print(str) for str in l]\n",
    "print()\n",
    "\n",
    "#print(*[ (str) for str in l])"
   ]
  },
  {
   "cell_type": "code",
   "execution_count": 51,
   "metadata": {},
   "outputs": [
    {
     "name": "stdout",
     "output_type": "stream",
     "text": [
      "Philippe\n"
     ]
    }
   ],
   "source": [
    "String = \"Philippe\"\n",
    "[print(c, end='') for c in String] \n",
    "print()\n",
    "\n",
    "# print(*[c for c in String], end='') \n",
    "    "
   ]
  }
 ],
 "metadata": {
  "kernelspec": {
   "display_name": "base",
   "language": "python",
   "name": "python3"
  },
  "language_info": {
   "codemirror_mode": {
    "name": "ipython",
    "version": 3
   },
   "file_extension": ".py",
   "mimetype": "text/x-python",
   "name": "python",
   "nbconvert_exporter": "python",
   "pygments_lexer": "ipython3",
   "version": "3.10.12"
  },
  "orig_nbformat": 4
 },
 "nbformat": 4,
 "nbformat_minor": 2
}
